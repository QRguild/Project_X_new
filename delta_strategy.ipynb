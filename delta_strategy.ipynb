{
 "cells": [
  {
   "cell_type": "code",
   "execution_count": 1,
   "id": "d78d7079",
   "metadata": {},
   "outputs": [
    {
     "data": {
      "text/plain": [
       "True"
      ]
     },
     "execution_count": 1,
     "metadata": {},
     "output_type": "execute_result"
    }
   ],
   "source": [
    "from datetime import datetime,date\n",
    "import logging\n",
    "import threading\n",
    "from queue import Queue\n",
    "from kiteconnect import KiteTicker, KiteConnect\n",
    "import time\n",
    "from collections import defaultdict, deque\n",
    "import csv\n",
    "import os\n",
    "import pandas as pd\n",
    "from Bardata import BarData\n",
    "import dotenv\n",
    "from dotenv import load_dotenv,set_key\n",
    "import argparse\n",
    "from black_scholes_model import option_greeks\n",
    "load_dotenv()"
   ]
  },
  {
   "cell_type": "code",
   "execution_count": 2,
   "id": "6fe14f9a",
   "metadata": {},
   "outputs": [],
   "source": [
    "class DeltaStrategy():\n",
    "\n",
    "    def __init__(self, config):\n",
    "        self.config = config\n",
    "        self.api_key = os.getenv('api_key')\n",
    "        self.access_token = os.getenv('access_token')\n",
    "        self.kws = KiteTicker(self.api_key, self.access_token)\n",
    "        self.kite = KiteConnect(api_key=self.api_key)\n",
    "        self.instruments = pd.DataFrame(self.kite.instruments(self.config['exchange']))\n",
    "\n",
    "        self.index_tokens = {'NIFTY':256265, 'SENSEX': 265}\n",
    "        self.instrument_tokens = [self.index_tokens[self.config['trading_symbol']]]\n",
    "\n",
    "        self.latest_ticks = {self.index_tokens[self.config['trading_symbol']]: None}\n",
    "        self.strikes = {}\n",
    "        self.trading_symbols = {}\n",
    "        self.expiry = None\n",
    "\n",
    "\n",
    "        self.tick_queue = Queue()\n",
    "        self.lock = threading.Lock()\n",
    "\n",
    "        self.iv = {}\n",
    "        self.delta = {}\n",
    "        self.gamma = {}\n",
    "\n",
    "\n",
    "        return\n",
    "\n",
    "    def process_ticks(self):\n",
    "        while True:\n",
    "            try:\n",
    "                tick = self.tick_queue.get(timeout=1)\n",
    "                with self.lock:\n",
    "                    # Process the tick data\n",
    "                    print(f\"Processing tick: {tick['last_price']}\")\n",
    "                    if tick['instrument_token'] in self.index_tokens.values():\n",
    "                        self.latest_ticks[tick['instrument_token']] = tick\n",
    "                        continue\n",
    "                    \n",
    "                    tick['trading_symbol'] = self.trading_symbols[tick['instrument_token']]\n",
    "                    time_to_expiry = (self.expiry - tick['exchange_timestamp']).total_seconds() / (365*86400)  # Convert to days\n",
    "\n",
    "                    iv, delta, gamma = option_greeks(\n",
    "                        spot=self.latest_ticks[self.index_tokens[self.config['trading_symbol']]]['last_price'],\n",
    "                        strike=self.strikes[tick['instrument_token']],\n",
    "                        dte=time_to_expiry,\n",
    "                        rate=0.06,  # Example risk-free rate\n",
    "                        option_type='CE' if 'CE' in tick['tradingsymbol'] else 'PE',\n",
    "                        option_price=tick['last_price']\n",
    "                    )\n",
    "\n",
    "                    self.iv[self.trading_symbols[tick['instrument_token']]] = iv\n",
    "                    self.delta[tick['trading_symbol']] = delta\n",
    "                    self.gamma[tick['trading_symbol']] = gamma\n",
    "\n",
    "                    tick['iv'] = iv\n",
    "                    tick['delta'] = delta\n",
    "                    tick['gamma'] = gamma\n",
    "\n",
    "                    self.latest_ticks[tick['instrument_token']] = tick\n",
    "\n",
    "                    \n",
    "                    pass\n",
    "\n",
    "            except Exception as e:\n",
    "                print(f\"Error processing tick: {e}\")    \n",
    "    \n",
    "    def update_trading_symbol(self):\n",
    "        expiry = sorted(self.instruments.loc[self.instruments['name']==self.config['trading_symbol'],'expiry'])\n",
    "        weekly = expiry[0]\n",
    "        self.expiry = weekly\n",
    "\n",
    "        self.lot_size = self.instruments.loc[(self.instruments['name']==self.config['trading_symbol']),'lot_size'].values[0]\n",
    "        instrument_tokens = self.instruments.loc[(self.instruments['name']==self.config['trading_symbol'])&(self.instruments['expiry']==weekly)&((self.instruments['strike']>self.latest_ticks[self.index_tokens[self.config['trading_symbol']]]['last_price']-(5*self.config['strike_gap']))&(self.instruments['strike']<=self.latest_ticks[self.index_tokens[self.config['trading_symbol']]]['last_price']+(5*self.config['strike_gap'])))&(self.instruments['instrument_type']!='FUT'),'instrument_token'].tolist()\n",
    "        self.instrument_tokens.extend(instrument_tokens)\n",
    "\n",
    "        for token in self.instrument_tokens:\n",
    "            self.trading_symbols[token] = self.instruments.loc[self.instruments['instrument_token']==token,'tradingsymbol'].values[0]\n",
    "            self.strikes[token] = float(self.instruments.loc[self.instruments['instrument_token']==token,'strike'].values[0])\n",
    "\n",
    "    def on_ticks(self, ws, ticks):\n",
    "        \n",
    "        if self.latest_ticks[self.index_tokens[self.config['trading_symbol']]] is not None:\n",
    "            self.update_trading_symbol()\n",
    "            ws.subscribe(self.instrument_tokens)\n",
    "\n",
    "        for tick in ticks:\n",
    "            self.tick_queue.put(tick)\n",
    "        return\n",
    "    \n",
    "    def on_connect(self,ws,response):\n",
    "        \"\"\"Callback when WebSocket connects.\"\"\"\n",
    "        print(\"WebSocket connected!\")\n",
    "        ws.subscribe(self.instrument_tokens)\n",
    "        ws.set_mode(ws.MODE_FULL, self.instrument_tokens)\n",
    "        return\n",
    "    \n",
    "\n",
    "    def start(self):\n",
    "        \"\"\"Start the WebSocket connection.\"\"\"\n",
    "        self.kws.on_ticks = self.on_ticks\n",
    "        self.kws.on_connect = self.on_connect\n",
    "\n",
    "        # Start the tick processing thread\n",
    "        tick_thread = threading.Thread(target=self.process_ticks)\n",
    "        tick_thread.daemon = True\n",
    "        tick_thread.start()\n",
    "\n",
    "        # Start the WebSocket connection\n",
    "        print(\"Connecting websocket\")\n",
    "        self.kws.connect(threaded=True)\n",
    "\n",
    "        try:\n",
    "            while True:\n",
    "                time.sleep(5)  # Keep the main thread alive\n",
    "                print(self.iv)\n",
    "                print(self.delta)\n",
    "                print(self.gamma)\n",
    "        except KeyboardInterrupt:\n",
    "            logging.info(\"Stopping the reactor...\")\n",
    "            self.running = False\n",
    "\n",
    "        return\n",
    "    \n"
   ]
  },
  {
   "cell_type": "code",
   "execution_count": 3,
   "id": "e74dcc36",
   "metadata": {},
   "outputs": [],
   "source": [
    "config = {    \n",
    "    'exchange': 'NFO',\n",
    "    'trading_symbol': 'NIFTY',\n",
    "    'strike_gap': 50,\n",
    "}"
   ]
  },
  {
   "cell_type": "code",
   "execution_count": null,
   "id": "3e669d09",
   "metadata": {},
   "outputs": [
    {
     "name": "stdout",
     "output_type": "stream",
     "text": [
      "Connecting websocket\n",
      "WebSocket connected!\n",
      "Processing tick: 25475.4\n"
     ]
    },
    {
     "name": "stderr",
     "output_type": "stream",
     "text": [
      "Unhandled Error\n",
      "Traceback (most recent call last):\n",
      "  File \"/Library/Frameworks/Python.framework/Versions/3.12/lib/python3.12/site-packages/twisted/internet/selectreactor.py\", line 165, in _doReadOrWrite\n",
      "    why = getattr(selectable, method)()\n",
      "  File \"/Library/Frameworks/Python.framework/Versions/3.12/lib/python3.12/site-packages/twisted/internet/tcp.py\", line 250, in doRead\n",
      "    return self._dataReceived(data)\n",
      "  File \"/Library/Frameworks/Python.framework/Versions/3.12/lib/python3.12/site-packages/twisted/internet/tcp.py\", line 255, in _dataReceived\n",
      "    rval = self.protocol.dataReceived(data)\n",
      "  File \"/Library/Frameworks/Python.framework/Versions/3.12/lib/python3.12/site-packages/twisted/protocols/tls.py\", line 339, in dataReceived\n",
      "    self._flushReceiveBIO()\n",
      "  File \"/Library/Frameworks/Python.framework/Versions/3.12/lib/python3.12/site-packages/twisted/protocols/tls.py\", line 305, in _flushReceiveBIO\n",
      "    ProtocolWrapper.dataReceived(self, bytes)\n",
      "  File \"/Library/Frameworks/Python.framework/Versions/3.12/lib/python3.12/site-packages/twisted/protocols/policies.py\", line 110, in dataReceived\n",
      "    self.wrappedProtocol.dataReceived(data)\n",
      "  File \"/Library/Frameworks/Python.framework/Versions/3.12/lib/python3.12/site-packages/autobahn/twisted/websocket.py\", line 291, in dataReceived\n",
      "    self._dataReceived(data)\n",
      "  File \"/Library/Frameworks/Python.framework/Versions/3.12/lib/python3.12/site-packages/autobahn/websocket/protocol.py\", line 1213, in _dataReceived\n",
      "    self.consumeData()\n",
      "  File \"/Library/Frameworks/Python.framework/Versions/3.12/lib/python3.12/site-packages/autobahn/websocket/protocol.py\", line 1225, in consumeData\n",
      "    while self.processData() and self.state != WebSocketProtocol.STATE_CLOSED:\n",
      "  File \"/Library/Frameworks/Python.framework/Versions/3.12/lib/python3.12/site-packages/autobahn/websocket/protocol.py\", line 1591, in processData\n",
      "    fr = self.onFrameEnd()\n",
      "  File \"/Library/Frameworks/Python.framework/Versions/3.12/lib/python3.12/site-packages/autobahn/websocket/protocol.py\", line 1713, in onFrameEnd\n",
      "    self._onMessageEnd()\n",
      "  File \"/Library/Frameworks/Python.framework/Versions/3.12/lib/python3.12/site-packages/autobahn/twisted/websocket.py\", line 319, in _onMessageEnd\n",
      "    self.onMessageEnd()\n",
      "  File \"/Library/Frameworks/Python.framework/Versions/3.12/lib/python3.12/site-packages/autobahn/websocket/protocol.py\", line 634, in onMessageEnd\n",
      "    self._onMessage(payload, self.message_is_binary)\n",
      "  File \"/Library/Frameworks/Python.framework/Versions/3.12/lib/python3.12/site-packages/autobahn/twisted/websocket.py\", line 322, in _onMessage\n",
      "    self.onMessage(payload, isBinary)\n",
      "  File \"/Library/Frameworks/Python.framework/Versions/3.12/lib/python3.12/site-packages/kiteconnect/ticker.py\", line 70, in onMessage\n",
      "    self.factory.on_message(self, payload, is_binary)\n",
      "  File \"/Library/Frameworks/Python.framework/Versions/3.12/lib/python3.12/site-packages/kiteconnect/ticker.py\", line 675, in _on_message\n",
      "    self.on_ticks(self, self._parse_binary(payload))\n",
      "  File \"/var/folders/cn/tfff3ckj5rgbdz6t7kthy19m0000gn/T/ipykernel_46136/3349425913.py\", line 85, in on_ticks\n",
      "    self.update_trading_symbol()\n",
      "  File \"/var/folders/cn/tfff3ckj5rgbdz6t7kthy19m0000gn/T/ipykernel_46136/3349425913.py\", line 79, in update_trading_symbol\n",
      "    self.trading_symbols[token] = self.instruments.loc[self.instruments['instrument_token']==token,'tradingsymbol'].values[0]\n",
      "builtins.IndexError: index 0 is out of bounds for axis 0 with size 0\n",
      "\n",
      "Connection error: 1006 - connection was closed uncleanly (peer dropped the TCP connection without previous WebSocket closing handshake)\n",
      "Connection closed: 1006 - connection was closed uncleanly (peer dropped the TCP connection without previous WebSocket closing handshake)\n"
     ]
    },
    {
     "name": "stdout",
     "output_type": "stream",
     "text": [
      "Error processing tick: \n",
      "Error processing tick: \n",
      "Error processing tick: \n",
      "Error processing tick: \n",
      "{}\n",
      "{}\n",
      "{}\n",
      "Error processing tick: \n",
      "Error processing tick: \n",
      "Error processing tick: \n",
      "Error processing tick: \n",
      "Error processing tick: \n",
      "{}\n",
      "{}\n",
      "{}\n",
      "Error processing tick: \n",
      "Error processing tick: \n",
      "Error processing tick: \n",
      "Error processing tick: \n",
      "Error processing tick: \n",
      "{}\n",
      "{}\n",
      "{}\n",
      "Error processing tick: \n",
      "Error processing tick: \n",
      "Error processing tick: \n",
      "Error processing tick: \n"
     ]
    },
    {
     "name": "stdout",
     "output_type": "stream",
     "text": [
      "Error processing tick: \n",
      "Error processing tick: \n"
     ]
    }
   ],
   "source": [
    "sample = DeltaStrategy(config)\n",
    "sample.start() \n",
    "# sample.instrument_tokens\n",
    "# print(sample.api_key,sample.access_token)"
   ]
  },
  {
   "cell_type": "code",
   "execution_count": 1,
   "id": "1081078e",
   "metadata": {},
   "outputs": [
    {
     "data": {
      "text/plain": [
       "{'NIFTY2571025700PE': 0.861915056630129,\n",
       " 'NIFTY2571025250CE': 0.8122607946852025,\n",
       " 'NIFTY2571025650PE': 0.7945728995606421,\n",
       " 'NIFTY2571025300CE': 0.7677731615908117,\n",
       " 'NIFTY2571025600PE': 0.718378214482524,\n",
       " 'NIFTY2571025350CE': 0.7073716179578223,\n",
       " 'NIFTY2571025400CE': 0.6374992569587192,\n",
       " 'NIFTY2571025550PE': 0.6282175468880942,\n",
       " 'NIFTY2571025450CE': 0.5553307071376501,\n",
       " 'NIFTY2571025500PE': 0.5337294305064619,\n",
       " 'NIFTY2571025500CE': 0.46867268372902515,\n",
       " 'NIFTY2571025450PE': 0.43986259422327567,\n",
       " 'NIFTY2571025550CE': 0.38226189018688805,\n",
       " 'NIFTY2571025400PE': 0.35079587743213014,\n",
       " 'NIFTY2571025600CE': 0.3006729073704144,\n",
       " 'NIFTY2571025350PE': 0.2735687455155519,\n",
       " 'NIFTY2571025650CE': 0.23068854911682907,\n",
       " 'NIFTY2571025300PE': 0.21022839150286687,\n",
       " 'NIFTY2571025700CE': 0.17442734592812942,\n",
       " 'NIFTY2571025250PE': 0.15979835098549344}"
      ]
     },
     "execution_count": 1,
     "metadata": {},
     "output_type": "execute_result"
    }
   ],
   "source": [
    "delt={'NIFTY2571025350PE': 0.2735687455155519, 'NIFTY2571025300PE': 0.21022839150286687, 'NIFTY2571025250PE': 0.15979835098549344, 'NIFTY2571025300CE': 0.7677731615908117, 'NIFTY2571025650PE': 0.7945728995606421, 'NIFTY2571025600PE': 0.718378214482524, 'NIFTY2571025650CE': 0.23068854911682907, 'NIFTY2571025450CE': 0.5553307071376501, 'NIFTY2571025400CE': 0.6374992569587192, 'NIFTY2571025450PE': 0.43986259422327567, 'NIFTY2571025600CE': 0.3006729073704144, 'NIFTY2571025350CE': 0.7073716179578223, 'NIFTY2571025550PE': 0.6282175468880942, 'NIFTY2571025500CE': 0.46867268372902515, 'NIFTY2571025400PE': 0.35079587743213014, 'NIFTY2571025700PE': 0.861915056630129, 'NIFTY2571025500PE': 0.5337294305064619, 'NIFTY2571025250CE': 0.8122607946852025, 'NIFTY2571025550CE': 0.38226189018688805, 'NIFTY2571025700CE': 0.17442734592812942}\n",
    "# Sort the dictionary by values, putting 'nan' values at the end\n",
    "sorted_items = sorted(delt.items(), key=lambda x: float('-inf') if x[1] == 'nan' else float(x[1]), reverse=True)\n",
    "sorted_delt = {k: v for k, v in sorted_items}\n",
    "sorted_delt\n",
    "\n"
   ]
  },
  {
   "cell_type": "code",
   "execution_count": null,
   "id": "e6d99382",
   "metadata": {},
   "outputs": [],
   "source": [
    "# {25450.0: 0.4976724223363284, \n",
    "#  25350.0: 0.3623778248398597, \n",
    "#  25200.0: 0.2007679453097071, \n",
    "#  25300.0: 0.6875216672977302, \n",
    "#  25250.0: 0.7382844552795542, \n",
    "#  25650.0: 0.24475418571206192, \n",
    "#  25400.0: 0.5654359970186535, \n",
    "#  25550.0: 0.3621569945902312, \n",
    "#  25500.0: 0.5759808254168853, \n",
    "#  25600.0: 0.7142410721708303}"
   ]
  },
  {
   "cell_type": "code",
   "execution_count": 12,
   "id": "7fb77d12",
   "metadata": {},
   "outputs": [
    {
     "data": {
      "text/plain": [
       "(np.float64(0.0869345443754492),\n",
       " np.float64(0.6460475040319663),\n",
       " np.float64(0.0022814270363698415))"
      ]
     },
     "execution_count": 12,
     "metadata": {},
     "output_type": "execute_result"
    }
   ],
   "source": [
    "option_greeks(\n",
    "    spot=25406,\n",
    "    strike=25550,\n",
    "    dte=6/365,\n",
    "    rate=0.086,\n",
    "    option_type='PE',\n",
    "    option_price=175.25\n",
    ")"
   ]
  }
 ],
 "metadata": {
  "kernelspec": {
   "display_name": "Python 3",
   "language": "python",
   "name": "python3"
  },
  "language_info": {
   "codemirror_mode": {
    "name": "ipython",
    "version": 3
   },
   "file_extension": ".py",
   "mimetype": "text/x-python",
   "name": "python",
   "nbconvert_exporter": "python",
   "pygments_lexer": "ipython3",
   "version": "3.12.4"
  }
 },
 "nbformat": 4,
 "nbformat_minor": 5
}
